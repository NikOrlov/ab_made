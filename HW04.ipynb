{
 "cells": [
  {
   "cell_type": "markdown",
   "id": "023c8ae4",
   "metadata": {},
   "source": [
    "## Описание эксперимента:\n",
    "Есть мобильное приложение. В этом приложении у пользователей есть возможность покупать игровые предметы за реальные деньги. Чтобы стимулировать пользователей их покупать, приложение периодически предлагает пользователям товары - появляется окошко с рекомендацией купить товар. Отдел машинного обучения предложил улучшение для текущего алгоритма выбора рекомендации. Для проверки улучшений алгоритма был проведен A/B тест. Лог его проведения предоставлен в прикрепленном файле. "
   ]
  },
  {
   "cell_type": "markdown",
   "id": "3d9175f4",
   "metadata": {},
   "source": [
    "## Метрика: \n",
    "средний доход от пользователя за 1 неделю после первого показа ему рекомендации на 10% (после начала A/B теста время первого показа ищется снова)\n",
    "\n",
    "## Важная информация:\n",
    "Эксперимент начинается 2023-05-01. Данные есть до 2023-06-01 (но можно завершить раньше, если это позволит оценка длительности)\n",
    "Вам сказали, что его длительность должна составить 1 месяц.\n",
    "Все покупки, которые вызваны не влиянием рекомендаций, в этом логе не учитываются\n",
    "\n",
    "## Описание данных:\n",
    "- id_product -  идентификатор продукта, который был рекомендован\n",
    "- is_pay - купил ли пользователь товар\n",
    "- sum_payment - размер платежа (0, если не купил)\n",
    "- city - город, в котором находится пользователь\n",
    "- id_user - пользователь\n",
    "- timestamp - timestamp события\n",
    "- date - дата события\n",
    "\n",
    "## Задачи, которые необходимо решить:\n",
    "Оценить длительность теста на момент его начала. Сравнить с предложенной. Для оценки необходимо использовать данные с пред экспериментального периода. Посмотреть, есть ли выбросы в данных.\n",
    "Построить методику расчета целевой метрики. Рассчитать целевую метрику на день окончания теста (рассчитанной в п1) для группы A и B, рассчитать эффект, p_value. Посмотреть, есть ли выбросы в данных.\n",
    "Рассчитать метрики из п2 по дням и построить их графики.\n",
    "Принять решение о результате теста - обосновать."
   ]
  },
  {
   "cell_type": "code",
   "execution_count": 1,
   "id": "c2c1c6d3",
   "metadata": {},
   "outputs": [],
   "source": [
    "import pandas as pd\n",
    "import numpy as np\n",
    "from datetime import timedelta\n",
    "import scipy.stats as sps"
   ]
  },
  {
   "cell_type": "code",
   "execution_count": 2,
   "id": "d806ba72",
   "metadata": {},
   "outputs": [],
   "source": [
    "df = pd.read_csv(\"ab_made_4\")"
   ]
  },
  {
   "cell_type": "code",
   "execution_count": 3,
   "id": "ff279b94",
   "metadata": {},
   "outputs": [
    {
     "data": {
      "text/html": [
       "<div>\n",
       "<style scoped>\n",
       "    .dataframe tbody tr th:only-of-type {\n",
       "        vertical-align: middle;\n",
       "    }\n",
       "\n",
       "    .dataframe tbody tr th {\n",
       "        vertical-align: top;\n",
       "    }\n",
       "\n",
       "    .dataframe thead th {\n",
       "        text-align: right;\n",
       "    }\n",
       "</style>\n",
       "<table border=\"1\" class=\"dataframe\">\n",
       "  <thead>\n",
       "    <tr style=\"text-align: right;\">\n",
       "      <th></th>\n",
       "      <th>timestamp</th>\n",
       "      <th>id_user</th>\n",
       "      <th>sum_payment</th>\n",
       "      <th>group</th>\n",
       "      <th>city</th>\n",
       "      <th>id_product</th>\n",
       "      <th>is_pay</th>\n",
       "      <th>date</th>\n",
       "    </tr>\n",
       "  </thead>\n",
       "  <tbody>\n",
       "    <tr>\n",
       "      <th>0</th>\n",
       "      <td>1680330573</td>\n",
       "      <td>user_9903</td>\n",
       "      <td>27</td>\n",
       "      <td>NaN</td>\n",
       "      <td>Санкт-Петербург</td>\n",
       "      <td>4.0</td>\n",
       "      <td>1</td>\n",
       "      <td>2023-04-01</td>\n",
       "    </tr>\n",
       "    <tr>\n",
       "      <th>1</th>\n",
       "      <td>1680332652</td>\n",
       "      <td>user_6732</td>\n",
       "      <td>0</td>\n",
       "      <td>NaN</td>\n",
       "      <td>Рязань</td>\n",
       "      <td>1.0</td>\n",
       "      <td>0</td>\n",
       "      <td>2023-04-01</td>\n",
       "    </tr>\n",
       "    <tr>\n",
       "      <th>2</th>\n",
       "      <td>1680378039</td>\n",
       "      <td>user_4199</td>\n",
       "      <td>0</td>\n",
       "      <td>NaN</td>\n",
       "      <td>Москва</td>\n",
       "      <td>3.0</td>\n",
       "      <td>0</td>\n",
       "      <td>2023-04-01</td>\n",
       "    </tr>\n",
       "    <tr>\n",
       "      <th>3</th>\n",
       "      <td>1680337580</td>\n",
       "      <td>user_3606</td>\n",
       "      <td>12</td>\n",
       "      <td>NaN</td>\n",
       "      <td>Санкт-Петербург</td>\n",
       "      <td>7.0</td>\n",
       "      <td>1</td>\n",
       "      <td>2023-04-01</td>\n",
       "    </tr>\n",
       "    <tr>\n",
       "      <th>4</th>\n",
       "      <td>1680334389</td>\n",
       "      <td>user_9519</td>\n",
       "      <td>0</td>\n",
       "      <td>NaN</td>\n",
       "      <td>Санкт-Петербург</td>\n",
       "      <td>14.0</td>\n",
       "      <td>0</td>\n",
       "      <td>2023-04-01</td>\n",
       "    </tr>\n",
       "    <tr>\n",
       "      <th>...</th>\n",
       "      <td>...</td>\n",
       "      <td>...</td>\n",
       "      <td>...</td>\n",
       "      <td>...</td>\n",
       "      <td>...</td>\n",
       "      <td>...</td>\n",
       "      <td>...</td>\n",
       "      <td>...</td>\n",
       "    </tr>\n",
       "    <tr>\n",
       "      <th>56400</th>\n",
       "      <td>1685485266</td>\n",
       "      <td>user_10740</td>\n",
       "      <td>0</td>\n",
       "      <td>A</td>\n",
       "      <td>Санкт-Петербург</td>\n",
       "      <td>14.0</td>\n",
       "      <td>0</td>\n",
       "      <td>2023-05-31</td>\n",
       "    </tr>\n",
       "    <tr>\n",
       "      <th>56401</th>\n",
       "      <td>1685481632</td>\n",
       "      <td>user_3589</td>\n",
       "      <td>0</td>\n",
       "      <td>B</td>\n",
       "      <td>Санкт-Петербург</td>\n",
       "      <td>1.0</td>\n",
       "      <td>0</td>\n",
       "      <td>2023-05-31</td>\n",
       "    </tr>\n",
       "    <tr>\n",
       "      <th>56402</th>\n",
       "      <td>1685514383</td>\n",
       "      <td>user_10664</td>\n",
       "      <td>13</td>\n",
       "      <td>A</td>\n",
       "      <td>Москва</td>\n",
       "      <td>17.0</td>\n",
       "      <td>1</td>\n",
       "      <td>2023-05-31</td>\n",
       "    </tr>\n",
       "    <tr>\n",
       "      <th>56403</th>\n",
       "      <td>1685481325</td>\n",
       "      <td>user_3537</td>\n",
       "      <td>0</td>\n",
       "      <td>B</td>\n",
       "      <td>Ярославь</td>\n",
       "      <td>19.0</td>\n",
       "      <td>0</td>\n",
       "      <td>2023-05-31</td>\n",
       "    </tr>\n",
       "    <tr>\n",
       "      <th>56404</th>\n",
       "      <td>1685528033</td>\n",
       "      <td>user_6637</td>\n",
       "      <td>0</td>\n",
       "      <td>B</td>\n",
       "      <td>Москва</td>\n",
       "      <td>19.0</td>\n",
       "      <td>0</td>\n",
       "      <td>2023-05-31</td>\n",
       "    </tr>\n",
       "  </tbody>\n",
       "</table>\n",
       "<p>56405 rows × 8 columns</p>\n",
       "</div>"
      ],
      "text/plain": [
       "        timestamp     id_user  sum_payment group             city  id_product  \\\n",
       "0      1680330573   user_9903           27   NaN  Санкт-Петербург         4.0   \n",
       "1      1680332652   user_6732            0   NaN           Рязань         1.0   \n",
       "2      1680378039   user_4199            0   NaN           Москва         3.0   \n",
       "3      1680337580   user_3606           12   NaN  Санкт-Петербург         7.0   \n",
       "4      1680334389   user_9519            0   NaN  Санкт-Петербург        14.0   \n",
       "...           ...         ...          ...   ...              ...         ...   \n",
       "56400  1685485266  user_10740            0     A  Санкт-Петербург        14.0   \n",
       "56401  1685481632   user_3589            0     B  Санкт-Петербург         1.0   \n",
       "56402  1685514383  user_10664           13     A           Москва        17.0   \n",
       "56403  1685481325   user_3537            0     B         Ярославь        19.0   \n",
       "56404  1685528033   user_6637            0     B           Москва        19.0   \n",
       "\n",
       "       is_pay        date  \n",
       "0           1  2023-04-01  \n",
       "1           0  2023-04-01  \n",
       "2           0  2023-04-01  \n",
       "3           1  2023-04-01  \n",
       "4           0  2023-04-01  \n",
       "...       ...         ...  \n",
       "56400       0  2023-05-31  \n",
       "56401       0  2023-05-31  \n",
       "56402       1  2023-05-31  \n",
       "56403       0  2023-05-31  \n",
       "56404       0  2023-05-31  \n",
       "\n",
       "[56405 rows x 8 columns]"
      ]
     },
     "execution_count": 3,
     "metadata": {},
     "output_type": "execute_result"
    }
   ],
   "source": [
    "df"
   ]
  },
  {
   "cell_type": "code",
   "execution_count": 4,
   "id": "8c30c011",
   "metadata": {},
   "outputs": [],
   "source": [
    "df['date'] = pd.to_datetime(df['date'], format='%Y-%m-%d')"
   ]
  },
  {
   "cell_type": "code",
   "execution_count": 5,
   "id": "c17b0405",
   "metadata": {},
   "outputs": [],
   "source": [
    "PRE_DATE = '2023-05-01'\n",
    "EXP_START_DATE = pd.to_datetime('2023-05-01', format='%Y-%m-%d')\n",
    "EXP_END_DATE = pd.to_datetime('2023-05-31', format='%Y-%m-%d')"
   ]
  },
  {
   "cell_type": "code",
   "execution_count": 6,
   "id": "0d310f30",
   "metadata": {},
   "outputs": [],
   "source": [
    "df_pre = df[df['date'] < PRE_DATE]\n",
    "df_a = df[df['group'] == 'A']\n",
    "df_b = df[df['group'] == 'B']"
   ]
  },
  {
   "cell_type": "code",
   "execution_count": 7,
   "id": "56eceb71",
   "metadata": {},
   "outputs": [],
   "source": [
    "assert len(df_pre) + len(df_a) + len(df_b) == len(df)"
   ]
  },
  {
   "cell_type": "code",
   "execution_count": 8,
   "id": "9d53c2e8",
   "metadata": {},
   "outputs": [
    {
     "name": "stdout",
     "output_type": "stream",
     "text": [
      "Len data before experiment: 25759\n",
      "Len data for A group: 15389\n",
      "Len data for B group: 15257\n"
     ]
    }
   ],
   "source": [
    "print(f'Len data before experiment: {len(df_pre)}')\n",
    "print(f'Len data for A group: {len(df_a)}')\n",
    "print(f'Len data for B group: {len(df_b)}')"
   ]
  },
  {
   "cell_type": "code",
   "execution_count": 9,
   "id": "dbf6051d",
   "metadata": {},
   "outputs": [
    {
     "name": "stdout",
     "output_type": "stream",
     "text": [
      "Number of unique users in A group: 6000\n",
      "Number of unique users in B group: 6000\n"
     ]
    }
   ],
   "source": [
    "print(f'Number of unique users in A group: {df_a[\"id_user\"].nunique()}')\n",
    "print(f'Number of unique users in B group: {df_b[\"id_user\"].nunique()}')\n"
   ]
  },
  {
   "cell_type": "code",
   "execution_count": 10,
   "id": "f2aa26e6",
   "metadata": {},
   "outputs": [
    {
     "data": {
      "text/plain": [
       "array([], dtype=object)"
      ]
     },
     "execution_count": 10,
     "metadata": {},
     "output_type": "execute_result"
    }
   ],
   "source": [
    "np.intersect1d(df_a['id_user'].values, df_b['id_user'])"
   ]
  },
  {
   "cell_type": "code",
   "execution_count": 11,
   "id": "d04bbf93",
   "metadata": {},
   "outputs": [],
   "source": [
    "OUTLIER_THRESHOLD = 0.01"
   ]
  },
  {
   "cell_type": "code",
   "execution_count": 12,
   "id": "8ed797ac",
   "metadata": {},
   "outputs": [],
   "source": [
    "def remove_outliers(df, threshold=OUTLIER_THRESHOLD):\n",
    "    lower_bound = df[\"sum_payment\"].quantile(q=threshold)\n",
    "    upper_bound = df[\"sum_payment\"].quantile(q=1-threshold)\n",
    "    emission_df = df[(df[\"sum_payment\"] < lower_bound) | (df[\"sum_payment\"] > upper_bound)]\n",
    "    \n",
    "    df.loc[df.index.isin(emission_df.index), \"sum_payment\"] = \\\n",
    "        df.loc[df.index.isin(emission_df.index), \"sum_payment\"].apply(lambda x: min(x, upper_bound))\n",
    "    \n",
    "    return df"
   ]
  },
  {
   "cell_type": "code",
   "execution_count": 13,
   "id": "3fb976a9",
   "metadata": {},
   "outputs": [],
   "source": [
    "df_pre = remove_outliers(df_pre)"
   ]
  },
  {
   "cell_type": "code",
   "execution_count": 14,
   "id": "4327e348",
   "metadata": {},
   "outputs": [],
   "source": [
    "ALPHA = 0.05\n",
    "BETA = 0.2"
   ]
  },
  {
   "cell_type": "code",
   "execution_count": 15,
   "id": "3cb9a03c",
   "metadata": {},
   "outputs": [],
   "source": [
    "def metric(df, ending, exp=False):\n",
    "    df_one_week = df.groupby('id_user')['timestamp'].min().reset_index(name='min_timestamp')\n",
    "    df_one_week['max_timestamp'] = df_one_week['min_timestamp'] + (7 * 24 * 60 * 60)\n",
    "    merged = df.merge(df_one_week, on='id_user')\n",
    "    merged = merged[(merged['timestamp'] <= merged['max_timestamp']) & (merged['timestamp'] >= merged['min_timestamp'])]\n",
    "    merged = merged[pd.to_datetime(merged['max_timestamp']).dt.normalize() <= ending]\n",
    "    \n",
    "    return merged.groupby('id_user').sum_payment.sum().tolist()"
   ]
  },
  {
   "cell_type": "code",
   "execution_count": 16,
   "id": "455797b9",
   "metadata": {},
   "outputs": [],
   "source": [
    "def duration(k, delta_effect, sigma_1, sigma_2, alpha=ALPHA, beta=BETA):\n",
    "    z = sps.norm.ppf(1 - alpha/2) + sps.norm.ppf(1-beta)\n",
    "    n = (k+1) * z ** 2 * (sigma_1 ** 2 + sigma_2 **2 / k) / (delta_effect ** 2)\n",
    "    return n"
   ]
  },
  {
   "cell_type": "code",
   "execution_count": 17,
   "id": "1c9c6395",
   "metadata": {},
   "outputs": [],
   "source": [
    "sigma1 = sigma2 = np.std(metric(df_pre, ending=PRE_DATE))\n",
    "\n",
    "mean_base = np.mean(metric(df_pre, ending=PRE_DATE))\n",
    "effect = 0.1 * mean_base\n",
    "\n",
    "k = df_a['id_user'].nunique() / df_b['id_user'].nunique()"
   ]
  },
  {
   "cell_type": "code",
   "execution_count": 18,
   "id": "c0c712d0",
   "metadata": {},
   "outputs": [],
   "source": [
    "target_n = int(duration(k, effect, sigma1, sigma2, alpha=ALPHA, beta=BETA)/2)"
   ]
  },
  {
   "cell_type": "code",
   "execution_count": 19,
   "id": "6e74dd28",
   "metadata": {},
   "outputs": [
    {
     "data": {
      "text/plain": [
       "3609"
      ]
     },
     "execution_count": 19,
     "metadata": {},
     "output_type": "execute_result"
    }
   ],
   "source": [
    "target_n"
   ]
  },
  {
   "cell_type": "code",
   "execution_count": 20,
   "id": "9ff6ce50",
   "metadata": {},
   "outputs": [],
   "source": [
    "def find_filter_date(df, target_count):\n",
    "    start_date = EXP_START_DATE + timedelta(days=7)\n",
    "    \n",
    "    while start_date != EXP_END_DATE:\n",
    "        temp_df = df[df['date'] <= start_date]\n",
    "        filtered_df = temp_df.groupby('id_user').timestamp.min().reset_index(name='min_timestamp')\n",
    "        filtered_df['max_timestamp'] = filtered_df['min_timestamp'] + (7 * 24 * 60 * 60)\n",
    "        filtered_df = filtered_df[pd.to_datetime(filtered_df['max_timestamp']).dt.normalize() <= start_date]\n",
    "        \n",
    "        if filtered_df['id_user'].nunique() >= target_count:\n",
    "            return start_date\n",
    "        \n",
    "        start_date = start_date + timedelta(days=1)\n",
    "    \n",
    "    return start_date"
   ]
  },
  {
   "cell_type": "code",
   "execution_count": 21,
   "id": "2dfd1b09",
   "metadata": {},
   "outputs": [],
   "source": [
    "a_date = find_filter_date(df_a, target_n)\n",
    "b_date = find_filter_date(df_b, target_n)\n",
    "\n",
    "if a_date == b_date:\n",
    "    EXP_END_DATE = a_date\n",
    "else:\n",
    "    EXP_END_DATE = max(a_date, b_date)"
   ]
  },
  {
   "cell_type": "code",
   "execution_count": 22,
   "id": "1b419f47",
   "metadata": {},
   "outputs": [],
   "source": [
    "df_a = df_a[df_a['date'] <= EXP_END_DATE]\n",
    "df_b = df_b[df_b['date'] <= EXP_END_DATE]"
   ]
  },
  {
   "cell_type": "code",
   "execution_count": 23,
   "id": "0e48e24d",
   "metadata": {},
   "outputs": [],
   "source": [
    "df_a = remove_outliers(df_a)\n",
    "df_b = remove_outliers(df_b)"
   ]
  },
  {
   "cell_type": "code",
   "execution_count": 24,
   "id": "d038bcc1",
   "metadata": {},
   "outputs": [],
   "source": [
    "def dynamic_metric(df_group_a, df_group_b):\n",
    "    final_df = pd.DataFrame(\n",
    "        [],\n",
    "        columns=[\"metric_a\", \"metric_b\", \"effect\", \"t\", \"p_value\"],\n",
    "        index=pd.date_range(EXP_START_DATE + timedelta(days=7), EXP_END_DATE),\n",
    "    )\n",
    "    for date in final_df.index:\n",
    "        tmp_a = metric(df_group_a[df_group_a[\"date\"] <= date], ending=date, exp=True)\n",
    "        tmp_b = metric(df_group_b[df_group_b[\"date\"] <= date], ending=date, exp=True)\n",
    "        effect = np.mean(tmp_b) - np.mean(tmp_a)\n",
    "        results = sps.ttest_ind(tmp_a, tmp_b, equal_var=abs(np.var(tmp_b) - np.var(tmp_a)) <= 0.1)\n",
    "        t, p_value = results.statistic, results.pvalue\n",
    "        \n",
    "        final_df.loc[date] = np.mean(tmp_a), np.mean(tmp_b), effect, t, p_value\n",
    "    return final_df"
   ]
  },
  {
   "cell_type": "code",
   "execution_count": 25,
   "id": "db3b2419",
   "metadata": {},
   "outputs": [
    {
     "data": {
      "text/html": [
       "<div>\n",
       "<style scoped>\n",
       "    .dataframe tbody tr th:only-of-type {\n",
       "        vertical-align: middle;\n",
       "    }\n",
       "\n",
       "    .dataframe tbody tr th {\n",
       "        vertical-align: top;\n",
       "    }\n",
       "\n",
       "    .dataframe thead th {\n",
       "        text-align: right;\n",
       "    }\n",
       "</style>\n",
       "<table border=\"1\" class=\"dataframe\">\n",
       "  <thead>\n",
       "    <tr style=\"text-align: right;\">\n",
       "      <th></th>\n",
       "      <th>metric_a</th>\n",
       "      <th>metric_b</th>\n",
       "      <th>effect</th>\n",
       "      <th>t</th>\n",
       "      <th>p_value</th>\n",
       "    </tr>\n",
       "  </thead>\n",
       "  <tbody>\n",
       "    <tr>\n",
       "      <th>2023-05-08</th>\n",
       "      <td>7.446429</td>\n",
       "      <td>8.997712</td>\n",
       "      <td>1.551283</td>\n",
       "      <td>-1.770544</td>\n",
       "      <td>0.076988</td>\n",
       "    </tr>\n",
       "    <tr>\n",
       "      <th>2023-05-09</th>\n",
       "      <td>7.881508</td>\n",
       "      <td>9.095588</td>\n",
       "      <td>1.21408</td>\n",
       "      <td>-1.523506</td>\n",
       "      <td>0.127924</td>\n",
       "    </tr>\n",
       "    <tr>\n",
       "      <th>2023-05-10</th>\n",
       "      <td>8.322009</td>\n",
       "      <td>9.164653</td>\n",
       "      <td>0.842644</td>\n",
       "      <td>-1.123313</td>\n",
       "      <td>0.26151</td>\n",
       "    </tr>\n",
       "    <tr>\n",
       "      <th>2023-05-11</th>\n",
       "      <td>8.23652</td>\n",
       "      <td>9.083756</td>\n",
       "      <td>0.847237</td>\n",
       "      <td>-1.229257</td>\n",
       "      <td>0.219161</td>\n",
       "    </tr>\n",
       "    <tr>\n",
       "      <th>2023-05-12</th>\n",
       "      <td>8.039832</td>\n",
       "      <td>9.241042</td>\n",
       "      <td>1.20121</td>\n",
       "      <td>-1.880038</td>\n",
       "      <td>0.060263</td>\n",
       "    </tr>\n",
       "    <tr>\n",
       "      <th>2023-05-13</th>\n",
       "      <td>8.189608</td>\n",
       "      <td>9.371665</td>\n",
       "      <td>1.182057</td>\n",
       "      <td>-1.989802</td>\n",
       "      <td>0.04674</td>\n",
       "    </tr>\n",
       "    <tr>\n",
       "      <th>2023-05-14</th>\n",
       "      <td>8.298887</td>\n",
       "      <td>9.160065</td>\n",
       "      <td>0.861178</td>\n",
       "      <td>-1.551224</td>\n",
       "      <td>0.120977</td>\n",
       "    </tr>\n",
       "    <tr>\n",
       "      <th>2023-05-15</th>\n",
       "      <td>8.368569</td>\n",
       "      <td>9.339463</td>\n",
       "      <td>0.970893</td>\n",
       "      <td>-1.860615</td>\n",
       "      <td>0.062903</td>\n",
       "    </tr>\n",
       "    <tr>\n",
       "      <th>2023-05-16</th>\n",
       "      <td>8.695013</td>\n",
       "      <td>9.377226</td>\n",
       "      <td>0.682214</td>\n",
       "      <td>-1.344973</td>\n",
       "      <td>0.178732</td>\n",
       "    </tr>\n",
       "    <tr>\n",
       "      <th>2023-05-17</th>\n",
       "      <td>8.710079</td>\n",
       "      <td>9.704041</td>\n",
       "      <td>0.993962</td>\n",
       "      <td>-2.041482</td>\n",
       "      <td>0.041278</td>\n",
       "    </tr>\n",
       "    <tr>\n",
       "      <th>2023-05-18</th>\n",
       "      <td>8.786517</td>\n",
       "      <td>9.771984</td>\n",
       "      <td>0.985467</td>\n",
       "      <td>-2.125584</td>\n",
       "      <td>0.033601</td>\n",
       "    </tr>\n",
       "    <tr>\n",
       "      <th>2023-05-19</th>\n",
       "      <td>9.025842</td>\n",
       "      <td>9.991208</td>\n",
       "      <td>0.965366</td>\n",
       "      <td>-2.181651</td>\n",
       "      <td>0.029189</td>\n",
       "    </tr>\n",
       "    <tr>\n",
       "      <th>2023-05-20</th>\n",
       "      <td>9.082573</td>\n",
       "      <td>10.227618</td>\n",
       "      <td>1.145046</td>\n",
       "      <td>-2.698726</td>\n",
       "      <td>0.006985</td>\n",
       "    </tr>\n",
       "    <tr>\n",
       "      <th>2023-05-21</th>\n",
       "      <td>9.091629</td>\n",
       "      <td>10.335627</td>\n",
       "      <td>1.243998</td>\n",
       "      <td>-3.06238</td>\n",
       "      <td>0.002207</td>\n",
       "    </tr>\n",
       "    <tr>\n",
       "      <th>2023-05-22</th>\n",
       "      <td>9.293103</td>\n",
       "      <td>10.467033</td>\n",
       "      <td>1.17393</td>\n",
       "      <td>-2.991738</td>\n",
       "      <td>0.002786</td>\n",
       "    </tr>\n",
       "    <tr>\n",
       "      <th>2023-05-23</th>\n",
       "      <td>9.360779</td>\n",
       "      <td>10.625</td>\n",
       "      <td>1.264221</td>\n",
       "      <td>-3.338352</td>\n",
       "      <td>0.000848</td>\n",
       "    </tr>\n",
       "    <tr>\n",
       "      <th>2023-05-24</th>\n",
       "      <td>9.498985</td>\n",
       "      <td>10.777519</td>\n",
       "      <td>1.278534</td>\n",
       "      <td>-3.485685</td>\n",
       "      <td>0.000494</td>\n",
       "    </tr>\n",
       "    <tr>\n",
       "      <th>2023-05-25</th>\n",
       "      <td>9.678093</td>\n",
       "      <td>10.96854</td>\n",
       "      <td>1.290447</td>\n",
       "      <td>-3.599173</td>\n",
       "      <td>0.000321</td>\n",
       "    </tr>\n",
       "  </tbody>\n",
       "</table>\n",
       "</div>"
      ],
      "text/plain": [
       "            metric_a   metric_b    effect         t   p_value\n",
       "2023-05-08  7.446429   8.997712  1.551283 -1.770544  0.076988\n",
       "2023-05-09  7.881508   9.095588   1.21408 -1.523506  0.127924\n",
       "2023-05-10  8.322009   9.164653  0.842644 -1.123313   0.26151\n",
       "2023-05-11   8.23652   9.083756  0.847237 -1.229257  0.219161\n",
       "2023-05-12  8.039832   9.241042   1.20121 -1.880038  0.060263\n",
       "2023-05-13  8.189608   9.371665  1.182057 -1.989802   0.04674\n",
       "2023-05-14  8.298887   9.160065  0.861178 -1.551224  0.120977\n",
       "2023-05-15  8.368569   9.339463  0.970893 -1.860615  0.062903\n",
       "2023-05-16  8.695013   9.377226  0.682214 -1.344973  0.178732\n",
       "2023-05-17  8.710079   9.704041  0.993962 -2.041482  0.041278\n",
       "2023-05-18  8.786517   9.771984  0.985467 -2.125584  0.033601\n",
       "2023-05-19  9.025842   9.991208  0.965366 -2.181651  0.029189\n",
       "2023-05-20  9.082573  10.227618  1.145046 -2.698726  0.006985\n",
       "2023-05-21  9.091629  10.335627  1.243998  -3.06238  0.002207\n",
       "2023-05-22  9.293103  10.467033   1.17393 -2.991738  0.002786\n",
       "2023-05-23  9.360779     10.625  1.264221 -3.338352  0.000848\n",
       "2023-05-24  9.498985  10.777519  1.278534 -3.485685  0.000494\n",
       "2023-05-25  9.678093   10.96854  1.290447 -3.599173  0.000321"
      ]
     },
     "execution_count": 25,
     "metadata": {},
     "output_type": "execute_result"
    }
   ],
   "source": [
    "results = dynamic_metric(df_a, df_b)\n",
    "results"
   ]
  },
  {
   "cell_type": "markdown",
   "id": "1cc0bcc4",
   "metadata": {},
   "source": [
    "Т.к. p_value (0.000321) < alpha (0.05), то внедряем новый алгоритм"
   ]
  }
 ],
 "metadata": {
  "kernelspec": {
   "display_name": "Python 3 (ipykernel)",
   "language": "python",
   "name": "python3"
  },
  "language_info": {
   "codemirror_mode": {
    "name": "ipython",
    "version": 3
   },
   "file_extension": ".py",
   "mimetype": "text/x-python",
   "name": "python",
   "nbconvert_exporter": "python",
   "pygments_lexer": "ipython3",
   "version": "3.11.3"
  }
 },
 "nbformat": 4,
 "nbformat_minor": 5
}
