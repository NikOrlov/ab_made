{
 "cells": [
  {
   "cell_type": "code",
   "execution_count": 1,
   "metadata": {},
   "outputs": [],
   "source": [
    "import numpy as np\n",
    "import scipy.stats as sps\n",
    "from scipy.stats import ttest_ind, mannwhitneyu"
   ]
  },
  {
   "cell_type": "markdown",
   "metadata": {},
   "source": [
    "# Part 1"
   ]
  },
  {
   "cell_type": "markdown",
   "metadata": {},
   "source": [
    "Реализовать t-критерий Стьюдента для 2 независимых выборок при условии неизвестной дисперсии. Необходимо считать значение статистики и p_value для разных видов гипотез (двусторонняя, односторонние), а также результат (отвергается нулевая гипотеза или нет). Сравнить результаты с реализацией в scipy.stats.ttest_ind."
   ]
  },
  {
   "cell_type": "code",
   "execution_count": 2,
   "metadata": {},
   "outputs": [],
   "source": [
    "def ttest_stat_counter(data1, data2, alpha, alternative='two-sided'):\n",
    "    mean1 = np.mean(data1)\n",
    "    mean2 = np.mean(data2)\n",
    "    var1 = np.var(data1, ddof=1)\n",
    "    var2 = np.var(data2, ddof=1)\n",
    "    \n",
    "    n1 = len(data1)\n",
    "    n2 = len(data2)\n",
    "    n = n1 + n2 - 2\n",
    "    t_stat = (mean1 - mean2) / np.sqrt(var1 / n1 + var2 / n2)\n",
    "    p_value = sps.t.cdf(t_stat, n)\n",
    "\n",
    "    if alternative == 'two-sided':\n",
    "        p_value *= 2\n",
    "\n",
    "    elif alternative == 'greater':\n",
    "        p_value = 1 - p_value\n",
    "        \n",
    "    #else 'less'    \n",
    "    if p_value < alpha:\n",
    "        result = 'Rejected'\n",
    "    else:\n",
    "        result = 'Approwed'\n",
    "    \n",
    "    return mean1, mean2, var1, var2, t_stat, p_value, result"
   ]
  },
  {
   "cell_type": "code",
   "execution_count": 3,
   "metadata": {},
   "outputs": [],
   "source": [
    "Mu1 = 0\n",
    "Sig1 = 1\n",
    "\n",
    "Mu2 = 0.5\n",
    "Sig2 = 1\n",
    "\n",
    "np.random.seed(42)\n",
    "data1 = np.random.normal(loc=Mu1, scale=Sig1, size=100)\n",
    "data2 = np.random.normal(loc=Mu2, scale=Sig2, size=100)\n",
    "\n",
    "alpha = 0.05"
   ]
  },
  {
   "cell_type": "code",
   "execution_count": 4,
   "metadata": {},
   "outputs": [
    {
     "name": "stdout",
     "output_type": "stream",
     "text": [
      "Hypothesis name: two-sided\n",
      "Mean #1: -0.10385\n",
      "Mean #2: 0.5223\n",
      "Variance 1: 0.82477\n",
      "Variance 2: 0.90948\n",
      "My t-statistic and scipy.stats: -4.7547 -4.7547\n",
      "My p-value implemented and scipy.stats: 3.8191e-06 3.8191e-06\n",
      "Hypothesis result: Rejected\n",
      "\n",
      "Hypothesis name: less\n",
      "Mean #1: -0.10385\n",
      "Mean #2: 0.5223\n",
      "Variance 1: 0.82477\n",
      "Variance 2: 0.90948\n",
      "My t-statistic and scipy.stats: -4.7547 -4.7547\n",
      "My p-value implemented and scipy.stats: 1.9096e-06 1.9096e-06\n",
      "Hypothesis result: Rejected\n",
      "\n",
      "Hypothesis name: greater\n",
      "Mean #1: -0.10385\n",
      "Mean #2: 0.5223\n",
      "Variance 1: 0.82477\n",
      "Variance 2: 0.90948\n",
      "My t-statistic and scipy.stats: -4.7547 -4.7547\n",
      "My p-value implemented and scipy.stats: 0.9999980904 0.9999980904\n",
      "Hypothesis result: Approwed\n",
      "\n"
     ]
    }
   ],
   "source": [
    "alternatives = ['two-sided', 'less', 'greater']\n",
    "for alternative in alternatives:\n",
    "    mean1, mean2, var1, var2, t_stat, p_value, hyp_res = ttest_stat_counter(data1, data2, alpha, alternative=alternative)\n",
    "    t_stat_skipy, pvalue_skipy = ttest_ind(data1, data2, alternative=alternative)\n",
    "\n",
    "    print(f\"Hypothesis name: {alternative}\")\n",
    "    print(\"Mean #1:\", round(mean1, 5))\n",
    "    print(\"Mean #2:\", round(mean2, 5))\n",
    "    print(\"Variance 1:\", round(var1, 5))\n",
    "    print(\"Variance 2:\", round(var2, 5))\n",
    "    print(\"My t-statistic and scipy.stats:\", round(t_stat, 5), round(t_stat_skipy, 5))\n",
    "    print(\"My p-value implemented and scipy.stats:\", round(p_value, 10), round(pvalue_skipy, 10))\n",
    "    print(\"Hypothesis result:\", hyp_res)\n",
    "    print()"
   ]
  },
  {
   "cell_type": "markdown",
   "metadata": {},
   "source": [
    "# Part 2"
   ]
  },
  {
   "cell_type": "markdown",
   "metadata": {},
   "source": [
    "Implement bootstrap for estimating using confidence intervals median and mean values of distribution.  Calculate for distributions: normal, exponential, normal mixture"
   ]
  },
  {
   "cell_type": "code",
   "execution_count": 5,
   "metadata": {},
   "outputs": [],
   "source": [
    "import numpy as np\n",
    "\n",
    "def bootstrap(data, statistic, n_bootstrap, alpha):\n",
    "    n = len(data)\n",
    "    boot_samples = np.random.choice(data, size=(n_bootstrap, n), replace=True)\n",
    "    boot_statistics = np.zeros(n_bootstrap)\n",
    "    \n",
    "    for i in range(n_bootstrap):\n",
    "        boot_statistics[i] = statistic(boot_samples[i])\n",
    "    \n",
    "    boot_statistics.sort()\n",
    "    lower_idx = int(n_bootstrap * alpha / 2)\n",
    "    upper_idx = int(n_bootstrap * (1 - alpha / 2))\n",
    "    lower_bound = boot_statistics[lower_idx]\n",
    "    upper_bound = boot_statistics[upper_idx]\n",
    "    \n",
    "    return lower_bound, upper_bound\n"
   ]
  },
  {
   "cell_type": "code",
   "execution_count": 6,
   "metadata": {},
   "outputs": [
    {
     "name": "stdout",
     "output_type": "stream",
     "text": [
      "Distribution: normal, statistic: mean\n",
      "Lower bound: -0.04092\n",
      "Upper bound: 0.0822\n",
      "\n",
      "Distribution: normal, statistic: median\n",
      "Lower bound: -0.04016\n",
      "Upper bound: 0.0894\n",
      "\n",
      "Distribution: exponential, statistic: mean\n",
      "Lower bound: 0.94664\n",
      "Upper bound: 1.07713\n",
      "\n",
      "Distribution: exponential, statistic: median\n",
      "Lower bound: 0.6681\n",
      "Upper bound: 0.77898\n",
      "\n",
      "Distribution: mixed normal, statistic: mean\n",
      "Lower bound: -0.11882\n",
      "Upper bound: 0.15652\n",
      "\n",
      "Distribution: mixed normal, statistic: median\n",
      "Lower bound: -0.60593\n",
      "Upper bound: 0.66746\n",
      "\n"
     ]
    }
   ],
   "source": [
    "# Normal Distribution\n",
    "N_BOOTSTRAP = 1000\n",
    "ALPHA = 0.05\n",
    "SIZE = 1000\n",
    "SCALE = 1\n",
    "MU = 0\n",
    "DELTA = 2\n",
    "np.random.seed(42)\n",
    "\n",
    "normal_data = np.random.normal(loc=MU, scale=SCALE, size=SIZE)\n",
    "exp_data = np.random.exponential(scale=SCALE, size=SIZE)\n",
    "mixed_normal_data = np.concatenate([np.random.normal(loc=MU - DELTA, scale=SCALE, size=SIZE // 2),\n",
    "                                      np.random.normal(loc=MU + DELTA, scale=SCALE, size=SIZE // 2)])\n",
    "\n",
    "\n",
    "distributions = [{'data': normal_data, 'name': 'normal'},\n",
    "                 {'data': exp_data, 'name': 'exponential'},\n",
    "                 {'data': mixed_normal_data, 'name': 'mixed normal'},\n",
    "                ]\n",
    "statistics = [{'func': np.mean, 'name': 'mean'},\n",
    "              {'func': np.median, 'name': 'median'}\n",
    "             ]\n",
    "\n",
    "for distribution in distributions:\n",
    "    for statistic in statistics:\n",
    "        stat_lower, stat_upper = bootstrap(distribution['data'], statistic['func'], N_BOOTSTRAP, ALPHA)\n",
    "        print(f'Distribution: {distribution[\"name\"]}, statistic: {statistic[\"name\"]}')\n",
    "        print(f'Lower bound: {np.round(stat_lower, 5)}')\n",
    "        print(f'Upper bound: {np.round(stat_upper, 5)}')\n",
    "        print()\n",
    "\n"
   ]
  },
  {
   "cell_type": "markdown",
   "metadata": {},
   "source": [
    "# Part 3"
   ]
  },
  {
   "cell_type": "markdown",
   "metadata": {},
   "source": [
    "Calculate power of t-test and Mann-Whitney test for different distributions and effect.  Separately cover case when means are equals and variances are very different"
   ]
  },
  {
   "cell_type": "code",
   "execution_count": 7,
   "metadata": {},
   "outputs": [],
   "source": [
    "def calculate_power(gen_func, stat_crit, mu_init=0, sigma_init=1, mu_effect=0, sigma_effect=0, size=100, n_iterations=100):\n",
    "    p_vals = []\n",
    "    for i in range(n_iterations):\n",
    "        if gen_func == 'normal':\n",
    "            data1 = np.random.normal(loc=mu_init, scale=sigma_init, size=size)\n",
    "            data2 = np.random.normal(loc=mu_init + mu_effect , scale=sigma_init + sigma_effect, size=size)\n",
    "        else:\n",
    "            data1 = np.random.exponential(scale=sigma_init, size=size)\n",
    "            data2 = np.random.exponential(scale=sigma_init + sigma_effect, size=size)\n",
    "            \n",
    "        res = stat_crit(data1, data2, alternative='two-sided')\n",
    "        p_vals.append(res.pvalue)\n",
    "        \n",
    "    p_vals = np.array(p_vals)\n",
    "    power_test = p_vals[p_vals < ALPHA].shape[0] / p_vals.shape[0] * 100\n",
    "    print(f\"Criteria power is {power_test}\")\n",
    "    return p_vals"
   ]
  },
  {
   "cell_type": "code",
   "execution_count": 8,
   "metadata": {},
   "outputs": [
    {
     "name": "stdout",
     "output_type": "stream",
     "text": [
      "T-test Criteria for normal distribution with mu effect=0, sigma effect=0\n",
      "Criteria power is 8.0\n",
      "\n",
      "T-test Criteria for exponential distribution with sigma effect=0\n",
      "Criteria power is 6.0\n",
      "\n",
      "Mann-Whitney Criteria for normal distribution with mu effect=0, sigma effect=0\n",
      "Criteria power is 5.0\n",
      "\n",
      "Mann-Whitney Criteria for exponential distribution with sigma effect=0\n",
      "Criteria power is 5.0\n",
      "\n",
      "T-test Criteria for normal distribution with mu effect=0, sigma effect=100\n",
      "Criteria power is 3.0\n",
      "\n",
      "T-test Criteria for exponential distribution with sigma effect=100\n",
      "Criteria power is 100.0\n",
      "\n",
      "Mann-Whitney Criteria for normal distribution with mu effect=0, sigma effect=100\n",
      "Criteria power is 12.0\n",
      "\n",
      "Mann-Whitney Criteria for exponential distribution with sigma effect=100\n",
      "Criteria power is 100.0\n",
      "\n",
      "T-test Criteria for normal distribution with mu effect=1, sigma effect=0\n",
      "Criteria power is 100.0\n",
      "\n",
      "T-test Criteria for exponential distribution with sigma effect=0\n",
      "Criteria power is 3.0\n",
      "\n",
      "Mann-Whitney Criteria for normal distribution with mu effect=1, sigma effect=0\n",
      "Criteria power is 100.0\n",
      "\n",
      "Mann-Whitney Criteria for exponential distribution with sigma effect=0\n",
      "Criteria power is 3.0\n",
      "\n",
      "T-test Criteria for normal distribution with mu effect=1, sigma effect=100\n",
      "Criteria power is 4.0\n",
      "\n",
      "T-test Criteria for exponential distribution with sigma effect=100\n",
      "Criteria power is 100.0\n",
      "\n",
      "Mann-Whitney Criteria for normal distribution with mu effect=1, sigma effect=100\n",
      "Criteria power is 13.0\n",
      "\n",
      "Mann-Whitney Criteria for exponential distribution with sigma effect=100\n",
      "Criteria power is 100.0\n",
      "\n"
     ]
    }
   ],
   "source": [
    "mu_effects = [0, 1]\n",
    "sigma_effects = [0, 100]\n",
    "criterions = [{'func': ttest_ind, 'name': 'T-test'},\n",
    "              {'func': mannwhitneyu, 'name': 'Mann-Whitney'},\n",
    "             ]\n",
    "\n",
    "for mu in mu_effects:\n",
    "    for sigma in sigma_effects:\n",
    "        for criterion in criterions:\n",
    "            print(f\"{criterion['name']} Criteria for normal distribution with mu effect={mu}, sigma effect={sigma}\")\n",
    "            calculate_power('normal', criterion['func'] , mu_effect=mu, sigma_effect=sigma)\n",
    "            print()\n",
    "            \n",
    "            print(f\"{criterion['name']} Criteria for exponential distribution with sigma effect={sigma}\")\n",
    "            calculate_power('exponential', criterion['func'] , sigma_effect=sigma)\n",
    "            print()"
   ]
  },
  {
   "cell_type": "markdown",
   "metadata": {},
   "source": [
    "# Part 4"
   ]
  },
  {
   "cell_type": "code",
   "execution_count": 9,
   "metadata": {},
   "outputs": [],
   "source": [
    "MU = 0\n",
    "SIGMA = 1\n",
    "DELTA = 3\n",
    "SAMPLE_SIZE = 1000\n",
    "ALPHA = 0.05"
   ]
  },
  {
   "cell_type": "code",
   "execution_count": 10,
   "metadata": {},
   "outputs": [],
   "source": [
    "def test_correct(distribution, sample_size=SAMPLE_SIZE, alpha=ALPHA):\n",
    "    if distribution == 'normal':\n",
    "        sample1 = np.random.normal(loc=MU, scale=SIGMA, size=sample_size)\n",
    "        sample2 = np.random.normal(loc=MU, scale=SIGMA, size=sample_size)\n",
    "    elif distribution == 'exponential':\n",
    "        sample1 = np.random.exponential(scale=SIGMA, size=sample_size)\n",
    "        sample2 = np.random.exponential(scale=SIGMA, size=sample_size)\n",
    "    else:\n",
    "        sample1 = np.concatenate([\n",
    "            np.random.normal(loc=MU, scale=SIGMA, size=sample_size // 2),\n",
    "            np.random.normal(loc=MU + DELTA, scale=SIGMA, size=sample_size // 2)\n",
    "        ])\n",
    "        sample2 = np.concatenate([\n",
    "            np.random.normal(loc=MU, scale=SIGMA, size=sample_size // 2),\n",
    "            np.random.normal(loc=MU + DELTA, scale=SIGMA, size=sample_size // 2)\n",
    "        ])\n",
    "        \n",
    "    _, p_value_ttest = ttest_ind(sample1, sample2)\n",
    "    _, p_value_mannwhitney = mannwhitneyu(sample1, sample2, alternative='two-sided')\n",
    "\n",
    "    ttest_correct = (p_value_ttest >= alpha)\n",
    "    mannwhitney_correct = (p_value_mannwhitney >= alpha)\n",
    "\n",
    "    return ttest_correct, mannwhitney_correct"
   ]
  },
  {
   "cell_type": "code",
   "execution_count": 11,
   "metadata": {},
   "outputs": [
    {
     "name": "stdout",
     "output_type": "stream",
     "text": [
      "Distribution: normal\n",
      "T-Test Correctness: 94.6%\n",
      "Mann-Whitney Correctness: 94.8%\n",
      "\n",
      "Distribution: exponential\n",
      "T-Test Correctness: 94.9%\n",
      "Mann-Whitney Correctness: 94.7%\n",
      "\n",
      "Distribution: mixed normal\n",
      "T-Test Correctness: 99.9%\n",
      "Mann-Whitney Correctness: 99.9%\n",
      "\n"
     ]
    }
   ],
   "source": [
    "sample_size = 100\n",
    "alpha = 0.05\n",
    "\n",
    "distributions = ['normal', 'exponential', 'mixed normal']\n",
    "n_tests = 1000\n",
    "\n",
    "for distribution in distributions:\n",
    "    ttest_correct_cnt = 0\n",
    "    mannwhitney_correct_cnt = 0\n",
    "\n",
    "    for _ in range(n_tests):\n",
    "        ttest_correct, mannwhitney_correct = test_correct(distribution, sample_size, alpha)\n",
    "        ttest_correct_cnt += ttest_correct\n",
    "        mannwhitney_correct_cnt += mannwhitney_correct\n",
    "\n",
    "    ttest_correct_res = (ttest_correct_cnt / n_tests) * 100\n",
    "    mannwhitney_correct_res = (mannwhitney_correct_cnt / n_tests) * 100\n",
    "\n",
    "    print(f\"Distribution: {distribution}\")\n",
    "    print(f\"T-Test Correctness: {round(ttest_correct_res, 2)}%\")\n",
    "    print(f\"Mann-Whitney Correctness: {round(mannwhitney_correct_res, 2)}%\")\n",
    "    print()"
   ]
  }
 ],
 "metadata": {
  "kernelspec": {
   "display_name": "Python 3 (ipykernel)",
   "language": "python",
   "name": "python3"
  },
  "language_info": {
   "codemirror_mode": {
    "name": "ipython",
    "version": 3
   },
   "file_extension": ".py",
   "mimetype": "text/x-python",
   "name": "python",
   "nbconvert_exporter": "python",
   "pygments_lexer": "ipython3",
   "version": "3.11.3"
  }
 },
 "nbformat": 4,
 "nbformat_minor": 2
}
